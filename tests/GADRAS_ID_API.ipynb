{
 "cells": [
  {
   "cell_type": "markdown",
   "id": "95f24760-f0ab-4f05-922e-d4efc38ea85a",
   "metadata": {},
   "source": [
    "## Example REST API access for GADRAS Full Spectrum ID"
   ]
  },
  {
   "cell_type": "code",
   "execution_count": 1,
   "id": "640a83ce-b64e-44ba-b14d-82d3bda8a5d5",
   "metadata": {
    "ExecuteTime": {
     "start_time": "2023-05-10T11:35:13.198866Z",
     "end_time": "2023-05-10T11:35:13.366428Z"
    }
   },
   "outputs": [],
   "source": [
    "import requests\n",
    "import json"
   ]
  },
  {
   "cell_type": "code",
   "execution_count": 7,
   "id": "be48a2f5-c536-499f-ab7d-433c023dc4e9",
   "metadata": {
    "ExecuteTime": {
     "start_time": "2023-05-10T11:37:17.674074Z",
     "end_time": "2023-05-10T11:37:17.690221Z"
    }
   },
   "outputs": [],
   "source": [
    "url = 'http://127.0.0.1:8082'\n",
    "api_url = url + \"/api/v1/analysis\"\n",
    "file = {\"ipc\": open(\"/Users/sangiorgio1/scratch/D5RMRPPP13_20210918010306_Confirmation.n42\", 'rb')}\n",
    "drf = 'IdentiFINDER-N'\n",
    "synthesize_bkg = False\n",
    "# file = {\"ipc\": open(\"/Users/sangiorgio1/RaseData/SampledSpectra/RadEaglet___8C7D23/RadEaglet___8C7D23___5.n42\", 'rb')}"
   ]
  },
  {
   "cell_type": "code",
   "execution_count": 8,
   "id": "2e0c89a2-d037-4458-bc48-20a071c4032f",
   "metadata": {
    "ExecuteTime": {
     "start_time": "2023-05-10T11:37:19.167355Z",
     "end_time": "2023-05-10T11:37:19.348110Z"
    }
   },
   "outputs": [
    {
     "data": {
      "text/plain": "{'alarmBasisDuration': 0,\n 'analysisError': 0,\n 'analysisWarnings': ['Skipped checking energy calibration - you may want to manually check the K40 peak is near 1460 keV.'],\n 'chi2': 0,\n 'code': 0,\n 'drf': 'IdentiFINDER-N',\n 'isotopeString': 'NONE',\n 'isotopes': [],\n 'stuffOfInterest': 0}"
     },
     "execution_count": 8,
     "metadata": {},
     "output_type": "execute_result"
    }
   ],
   "source": [
    "payload = {\"options\": json.dumps({'synthesizeBackground': synthesize_bkg, 'drf': drf})}\n",
    "r = requests.post(f'{api_url}', files=file, data=payload)\n",
    "r.json()"
   ]
  },
  {
   "cell_type": "code",
   "execution_count": 9,
   "id": "90acea05-4b17-41c3-8396-869e9d836bb4",
   "metadata": {
    "ExecuteTime": {
     "start_time": "2023-05-10T11:37:26.121461Z",
     "end_time": "2023-05-10T11:37:26.131582Z"
    }
   },
   "outputs": [
    {
     "name": "stdout",
     "output_type": "stream",
     "text": [
      "[]\n"
     ]
    }
   ],
   "source": [
    "print([(i['name'], i['confidence']) for i in r.json()['isotopes']])"
   ]
  },
  {
   "cell_type": "markdown",
   "id": "c2119ce1-8ee0-4c33-901d-fd2fcf01e4b6",
   "metadata": {},
   "source": [
    "## Questions\n",
    "* The API does not perform analysis if background is not provided. Is there a workaround?"
   ]
  },
  {
   "cell_type": "code",
   "execution_count": 12,
   "id": "e30c04e8-d83c-433b-8ce5-1b9298adb4de",
   "metadata": {
    "ExecuteTime": {
     "start_time": "2023-05-10T11:38:10.873453Z",
     "end_time": "2023-05-10T11:38:10.907276Z"
    }
   },
   "outputs": [
    {
     "data": {
      "text/plain": "{'Options': [{'comment': 'Optional name of the Detector Response Function to use in the analysis.\\nIf not provided, or a value of \"auto\" is provided, the DRF to use will be guessed, and if it cant be guessed, analysis will fail.\\nValue provided must be from provided list of possible values.',\n   'name': 'drf',\n   'possibleValues': ['auto',\n    '1x1/BGO Side',\n    '1x1/CsI Side',\n    '1x1/LaCl3',\n    '1x1/NaI Front',\n    '1x1/NaI Side',\n    '3x3/NaI AboveSource',\n    '3x3/NaI InCorner',\n    '3x3/NaI LowScat',\n    '3x3/NaI MidScat',\n    '3x3/NaI OnGround',\n    'ASP-Thermo',\n    'Apollo/Bottom',\n    'Apollo/Front',\n    'Atomex-AT6102',\n    'D3S',\n    'Detective',\n    'Detective-EX',\n    'Detective-EX100',\n    'Detective-EX200',\n    'Detective-Micro',\n    'Detective-Micro/Variant-LowEfficiency',\n    'Detective-X',\n    'Falcon 5000',\n    'FieldSpec',\n    'GR130',\n    'GR135',\n    'GR135Plus',\n    'IdentiFINDER-LaBr3',\n    'IdentiFINDER-N',\n    'IdentiFINDER-NG',\n    'IdentiFINDER-NGH',\n    'IdentiFINDER-R300',\n    'IdentiFINDER-R500-NaI',\n    'InSpector 1000 LaBr3',\n    'InSpector 1000 NaI',\n    'Interceptor',\n    'LaBr3Marlow',\n    'LaBr3PNNL',\n    'MKC-A03',\n    'Mirion PDS-100',\n    'Polimaster PM1704-GN',\n    'RIIDEyeX-GN1',\n    'RadEagle',\n    'RadEye',\n    'RadPack',\n    'RadSeeker-NaI',\n    'Radseeker-LaBr3',\n    'Raider',\n    'Ranger',\n    'SAM-935',\n    'SAM-945',\n    'SAM-950GN-N30',\n    'SAM-Eagle-LaBr3',\n    'SAM-Eagle-NaI-3x3',\n    'SpiR-ID/LaBr3',\n    'SpiR-ID/NaI',\n    'Thermo ARIS Portal',\n    'Transpec',\n    'Verifinder'],\n   'required': False,\n   'type': 'Enumerated'}],\n 'comment': 'To make an analysis request, you must POST to /v1/Analysis Using multipart/form-data.You If two files are uploaded, and the \\'name\\' attribute of each files multipart/form-data section is anything other than \\'foreground\\' and \\'background\\', then it is assumed the first file is foreground, and second is background, unless the count rate of one of the files is greater than 25% more than the other one.blah blah blahAn example request for analysis might look like:\\n\\tcurl -v -f \"options={\\\\\"drf\\\\\": \\\\\"IdentiFINDER-NGH\\\\\"}\" -F \"foreground=@./foreground.n42\" -F \"background=@./background.n42\" https://fullspectrum.sandia.gov/api/v1/analysis\\nOr you can specify the DRF to use as a query parameter in the url, for example\\n\\tcurl -v -F \"foreground=@./specfile.n42\" -F \"background=@./background.n42\" -f fullspectrum.sandia.gov/api/v1/analysis?drf=IdentiFINDER-NGH',\n 'versions': {'ApiInterface': 'v1',\n  'analysis': 'GADRAS 19.2.3',\n  'compileDate': 'Oct  1 2021'}}"
     },
     "execution_count": 12,
     "metadata": {},
     "output_type": "execute_result"
    }
   ],
   "source": [
    "r = requests.post(f'{url}/api/v1/info')\n",
    "r.json()"
   ]
  },
  {
   "cell_type": "code",
   "execution_count": 16,
   "outputs": [
    {
     "data": {
      "text/plain": "['auto',\n '1x1/BGO Side',\n '1x1/CsI Side',\n '1x1/LaCl3',\n '1x1/NaI Front',\n '1x1/NaI Side',\n '3x3/NaI AboveSource',\n '3x3/NaI InCorner',\n '3x3/NaI LowScat',\n '3x3/NaI MidScat',\n '3x3/NaI OnGround',\n 'ASP-Thermo',\n 'Apollo/Bottom',\n 'Apollo/Front',\n 'Atomex-AT6102',\n 'D3S',\n 'Detective',\n 'Detective-EX',\n 'Detective-EX100',\n 'Detective-EX200',\n 'Detective-Micro',\n 'Detective-Micro/Variant-LowEfficiency',\n 'Detective-X',\n 'Falcon 5000',\n 'FieldSpec',\n 'GR130',\n 'GR135',\n 'GR135Plus',\n 'IdentiFINDER-LaBr3',\n 'IdentiFINDER-N',\n 'IdentiFINDER-NG',\n 'IdentiFINDER-NGH',\n 'IdentiFINDER-R300',\n 'IdentiFINDER-R500-NaI',\n 'InSpector 1000 LaBr3',\n 'InSpector 1000 NaI',\n 'Interceptor',\n 'LaBr3Marlow',\n 'LaBr3PNNL',\n 'MKC-A03',\n 'Mirion PDS-100',\n 'Polimaster PM1704-GN',\n 'RIIDEyeX-GN1',\n 'RadEagle',\n 'RadEye',\n 'RadPack',\n 'RadSeeker-NaI',\n 'Radseeker-LaBr3',\n 'Raider',\n 'Ranger',\n 'SAM-935',\n 'SAM-945',\n 'SAM-950GN-N30',\n 'SAM-Eagle-LaBr3',\n 'SAM-Eagle-NaI-3x3',\n 'SpiR-ID/LaBr3',\n 'SpiR-ID/NaI',\n 'Thermo ARIS Portal',\n 'Transpec',\n 'Verifinder']"
     },
     "execution_count": 16,
     "metadata": {},
     "output_type": "execute_result"
    }
   ],
   "source": [
    "r.json()['Options'][0]['possibleValues']"
   ],
   "metadata": {
    "collapsed": false,
    "ExecuteTime": {
     "start_time": "2023-05-10T11:40:50.977723Z",
     "end_time": "2023-05-10T11:40:50.999643Z"
    }
   }
  },
  {
   "cell_type": "code",
   "execution_count": null,
   "outputs": [],
   "source": [],
   "metadata": {
    "collapsed": false
   }
  }
 ],
 "metadata": {
  "kernelspec": {
   "name": "python3",
   "language": "python",
   "display_name": "Python 3 (ipykernel)"
  },
  "language_info": {
   "codemirror_mode": {
    "name": "ipython",
    "version": 3
   },
   "file_extension": ".py",
   "mimetype": "text/x-python",
   "name": "python",
   "nbconvert_exporter": "python",
   "pygments_lexer": "ipython3",
   "version": "3.9.7"
  }
 },
 "nbformat": 4,
 "nbformat_minor": 5
}
