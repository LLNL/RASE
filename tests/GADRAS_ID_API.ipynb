{
 "cells": [
  {
   "cell_type": "markdown",
   "id": "95f24760-f0ab-4f05-922e-d4efc38ea85a",
   "metadata": {},
   "source": [
    "## Example REST API access for GADRAS Full Spectrum ID"
   ]
  },
  {
   "cell_type": "code",
   "execution_count": 1,
   "id": "640a83ce-b64e-44ba-b14d-82d3bda8a5d5",
   "metadata": {},
   "outputs": [],
   "source": [
    "import requests"
   ]
  },
  {
   "cell_type": "code",
   "execution_count": 28,
   "id": "be48a2f5-c536-499f-ab7d-433c023dc4e9",
   "metadata": {},
   "outputs": [],
   "source": [
    "api_url = \"http://127.0.0.1:8082/api/v1/analysis\"\n",
    "file = {\"ipc\": open(\"/Users/sangiorgio1/scratch/FLIR___D105B0___0.n42\", 'rb')}\n",
    "drf = 'IdentiFINDER-N'\n",
    "# file = {\"ipc\": open(\"/Users/sangiorgio1/RaseData/SampledSpectra/RadEaglet___8C7D23/RadEaglet___8C7D23___5.n42\", 'rb')}"
   ]
  },
  {
   "cell_type": "code",
   "execution_count": 29,
   "id": "2e0c89a2-d037-4458-bc48-20a071c4032f",
   "metadata": {},
   "outputs": [
    {
     "data": {
      "text/plain": [
       "{'alarmBasisDuration': 30,\n",
       " 'analysisError': 0,\n",
       " 'analysisWarnings': ['Skipped checking energy calibration - you may want to manually check the K40 peak is near 1460 keV.'],\n",
       " 'chi2': 2.875772953033447,\n",
       " 'code': 0,\n",
       " 'drf': 'IdentiFINDER-N',\n",
       " 'isotopeString': 'Co57  (H)+Cs137 (H)',\n",
       " 'isotopes': [{'confidence': 3.913640260696411,\n",
       "   'confidenceStr': 'H',\n",
       "   'countRate': 51.0554313659668,\n",
       "   'name': 'Co57',\n",
       "   'type': 'Industrial'},\n",
       "  {'confidence': 5.017501831054688,\n",
       "   'confidenceStr': 'H',\n",
       "   'countRate': 82.2979507446289,\n",
       "   'name': 'Cs137',\n",
       "   'type': 'Industrial'}],\n",
       " 'stuffOfInterest': 7.04469633102417}"
      ]
     },
     "execution_count": 29,
     "metadata": {},
     "output_type": "execute_result"
    }
   ],
   "source": [
    "r = requests.post(f'{api_url}?drf={drf}', files=file)\n",
    "r.json()"
   ]
  },
  {
   "cell_type": "code",
   "execution_count": 31,
   "id": "90acea05-4b17-41c3-8396-869e9d836bb4",
   "metadata": {},
   "outputs": [
    {
     "name": "stdout",
     "output_type": "stream",
     "text": [
      "[('Co57', 3.913640260696411), ('Cs137', 5.017501831054688)]\n"
     ]
    }
   ],
   "source": [
    "print([(i['name'], i['confidence']) for i in r.json()['isotopes']])"
   ]
  },
  {
   "cell_type": "markdown",
   "id": "c2119ce1-8ee0-4c33-901d-fd2fcf01e4b6",
   "metadata": {},
   "source": [
    "## Questions\n",
    "* The API does not perform analysis if background is not provided. Is there a workaround?\n",
    "* When passing a single file, how does the code recognizes which spectrum is 'foreground' vs 'background'?\n",
    "* How does the code recognizes the instrument name? "
   ]
  },
  {
   "cell_type": "code",
   "execution_count": null,
   "id": "e30c04e8-d83c-433b-8ce5-1b9298adb4de",
   "metadata": {},
   "outputs": [],
   "source": []
  }
 ],
 "metadata": {
  "kernelspec": {
   "display_name": "pandas_venv",
   "language": "python",
   "name": "pandas_venv"
  },
  "language_info": {
   "codemirror_mode": {
    "name": "ipython",
    "version": 3
   },
   "file_extension": ".py",
   "mimetype": "text/x-python",
   "name": "python",
   "nbconvert_exporter": "python",
   "pygments_lexer": "ipython3",
   "version": "3.9.7"
  }
 },
 "nbformat": 4,
 "nbformat_minor": 5
}
